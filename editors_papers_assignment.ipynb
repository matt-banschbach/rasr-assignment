{
 "cells": [
  {
   "metadata": {
    "ExecuteTime": {
     "end_time": "2025-01-17T19:30:07.650010Z",
     "start_time": "2025-01-17T19:30:05.839054Z"
    }
   },
   "cell_type": "code",
   "source": [
    "import pandas as pd\n",
    "import numpy as np\n"
   ],
   "id": "a919c20d2c3d24ff",
   "outputs": [],
   "execution_count": 2
  },
  {
   "metadata": {
    "ExecuteTime": {
     "end_time": "2025-01-17T21:44:18.324329Z",
     "start_time": "2025-01-17T21:44:18.266707Z"
    }
   },
   "cell_type": "code",
   "source": [
    "df = pd.read_csv(\"Areas of Interest (Responses) - Form Responses 1.csv\")\n",
    "df = df.iloc[:, 1:]"
   ],
   "id": "e395d38d61d2f60b",
   "outputs": [],
   "execution_count": 16
  },
  {
   "metadata": {
    "ExecuteTime": {
     "end_time": "2025-01-17T21:44:18.872650Z",
     "start_time": "2025-01-17T21:44:18.861393Z"
    }
   },
   "cell_type": "code",
   "source": "df.set_index(\"Name\", inplace=True)",
   "id": "bc9c01df0c25e3fd",
   "outputs": [],
   "execution_count": 17
  },
  {
   "metadata": {
    "ExecuteTime": {
     "end_time": "2025-01-17T21:44:21.667914Z",
     "start_time": "2025-01-17T21:44:21.653300Z"
    }
   },
   "cell_type": "code",
   "source": "df",
   "id": "9c3d4a5074d940b9",
   "outputs": [
    {
     "data": {
      "text/plain": [
       "                                                     Areas of Interest\n",
       "Name                                                                  \n",
       "Bryson Jun           Modern East Asian history (China, Japan, Korea...\n",
       "Karina Pan           Politics (especially geopolitics), Cross-strai...\n",
       "Kelly Guo                         China/Japan/Korea/Policy/Immigration\n",
       "Matthew Ahn          Korea, Japan, China, Vietnam, and areas of in-...\n",
       "Muriel Taylor-Adair  Japan, Korea, Thailand, LGBTQ+, Pop Culture, H...\n",
       "Rijuta Vallishayee   China (generally), cultural history, intellect...\n",
       "Sophia Cho                    Anything Korean, Buddhist, or Political!\n",
       "Sophia Govea         Korean War, the Philippines in general, U.S. r...\n",
       "Gina Matos           South Korea, Asian America, family, popular cu..."
      ],
      "text/html": [
       "<div>\n",
       "<style scoped>\n",
       "    .dataframe tbody tr th:only-of-type {\n",
       "        vertical-align: middle;\n",
       "    }\n",
       "\n",
       "    .dataframe tbody tr th {\n",
       "        vertical-align: top;\n",
       "    }\n",
       "\n",
       "    .dataframe thead th {\n",
       "        text-align: right;\n",
       "    }\n",
       "</style>\n",
       "<table border=\"1\" class=\"dataframe\">\n",
       "  <thead>\n",
       "    <tr style=\"text-align: right;\">\n",
       "      <th></th>\n",
       "      <th>Areas of Interest</th>\n",
       "    </tr>\n",
       "    <tr>\n",
       "      <th>Name</th>\n",
       "      <th></th>\n",
       "    </tr>\n",
       "  </thead>\n",
       "  <tbody>\n",
       "    <tr>\n",
       "      <th>Bryson Jun</th>\n",
       "      <td>Modern East Asian history (China, Japan, Korea...</td>\n",
       "    </tr>\n",
       "    <tr>\n",
       "      <th>Karina Pan</th>\n",
       "      <td>Politics (especially geopolitics), Cross-strai...</td>\n",
       "    </tr>\n",
       "    <tr>\n",
       "      <th>Kelly Guo</th>\n",
       "      <td>China/Japan/Korea/Policy/Immigration</td>\n",
       "    </tr>\n",
       "    <tr>\n",
       "      <th>Matthew Ahn</th>\n",
       "      <td>Korea, Japan, China, Vietnam, and areas of in-...</td>\n",
       "    </tr>\n",
       "    <tr>\n",
       "      <th>Muriel Taylor-Adair</th>\n",
       "      <td>Japan, Korea, Thailand, LGBTQ+, Pop Culture, H...</td>\n",
       "    </tr>\n",
       "    <tr>\n",
       "      <th>Rijuta Vallishayee</th>\n",
       "      <td>China (generally), cultural history, intellect...</td>\n",
       "    </tr>\n",
       "    <tr>\n",
       "      <th>Sophia Cho</th>\n",
       "      <td>Anything Korean, Buddhist, or Political!</td>\n",
       "    </tr>\n",
       "    <tr>\n",
       "      <th>Sophia Govea</th>\n",
       "      <td>Korean War, the Philippines in general, U.S. r...</td>\n",
       "    </tr>\n",
       "    <tr>\n",
       "      <th>Gina Matos</th>\n",
       "      <td>South Korea, Asian America, family, popular cu...</td>\n",
       "    </tr>\n",
       "  </tbody>\n",
       "</table>\n",
       "</div>"
      ]
     },
     "execution_count": 18,
     "metadata": {},
     "output_type": "execute_result"
    }
   ],
   "execution_count": 18
  }
 ],
 "metadata": {
  "kernelspec": {
   "display_name": "Python 3",
   "language": "python",
   "name": "python3"
  },
  "language_info": {
   "codemirror_mode": {
    "name": "ipython",
    "version": 2
   },
   "file_extension": ".py",
   "mimetype": "text/x-python",
   "name": "python",
   "nbconvert_exporter": "python",
   "pygments_lexer": "ipython2",
   "version": "2.7.6"
  }
 },
 "nbformat": 4,
 "nbformat_minor": 5
}
