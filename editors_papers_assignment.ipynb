{
 "cells": [
  {
   "metadata": {},
   "cell_type": "code",
   "outputs": [],
   "execution_count": null,
   "source": "import gurobipy as gp",
   "id": "a919c20d2c3d24ff"
  },
  {
   "cell_type": "code",
   "execution_count": null,
   "id": "initial_id",
   "metadata": {
    "collapsed": true
   },
   "outputs": [],
   "source": [
    "num_papers = 20\n",
    "num_lead_editors = 5  # aka num groups\n",
    "num_editors = 15"
   ]
  },
  {
   "metadata": {},
   "cell_type": "markdown",
   "source": [
    "Editors ---> Groups\n",
    "\n",
    "Papers ---> Groups\n",
    "\n",
    "\n",
    "\n",
    "Assuming we have new editors $i=1,...,12$, groups $j=1,...,3$, papers $k=1,...,20$\n",
    "\n",
    "\n",
    "$x_{ij}$ - Editor $i$ assigned to group $j$\n",
    "\n",
    "$y_{kj}$ - Paper $k$ assigned to group $j$\n",
    "\n",
    "$z_{lj}$ - EIC $l$ assigned to group $j$\n",
    "\n"
   ],
   "id": "ec9d7c54de719f9f"
  },
  {
   "metadata": {},
   "cell_type": "code",
   "outputs": [],
   "execution_count": null,
   "source": [
    "assignment_model = gp.Model\n",
    "\n",
    "\n"
   ],
   "id": "52f9a421ae20dacf"
  },
  {
   "metadata": {},
   "cell_type": "code",
   "outputs": [],
   "execution_count": null,
   "source": "",
   "id": "e395d38d61d2f60b"
  }
 ],
 "metadata": {
  "kernelspec": {
   "display_name": "Python 3",
   "language": "python",
   "name": "python3"
  },
  "language_info": {
   "codemirror_mode": {
    "name": "ipython",
    "version": 2
   },
   "file_extension": ".py",
   "mimetype": "text/x-python",
   "name": "python",
   "nbconvert_exporter": "python",
   "pygments_lexer": "ipython2",
   "version": "2.7.6"
  }
 },
 "nbformat": 4,
 "nbformat_minor": 5
}
