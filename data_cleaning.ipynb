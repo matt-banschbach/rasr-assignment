{
 "cells": [
  {
   "metadata": {
    "ExecuteTime": {
     "end_time": "2025-01-29T03:50:17.878401Z",
     "start_time": "2025-01-29T03:49:35.161251Z"
    }
   },
   "cell_type": "code",
   "source": [
    "import pandas as pd\n",
    "import numpy as np\n",
    "from similarity import vector_similarity"
   ],
   "id": "a919c20d2c3d24ff",
   "outputs": [],
   "execution_count": 1
  },
  {
   "metadata": {
    "ExecuteTime": {
     "end_time": "2025-01-29T03:50:26.091954Z",
     "start_time": "2025-01-29T03:50:26.061982Z"
    }
   },
   "cell_type": "code",
   "source": [
    "df = pd.read_csv(\"areas_of_interest_old.csv\")\n",
    "df = df.iloc[:, 1:]\n",
    "int_map = dict(zip(df['Name'], df['Areas of Interest']))"
   ],
   "id": "e395d38d61d2f60b",
   "outputs": [],
   "execution_count": 2
  },
  {
   "metadata": {
    "ExecuteTime": {
     "end_time": "2025-01-29T03:50:28.309602Z",
     "start_time": "2025-01-29T03:50:28.287747Z"
    }
   },
   "cell_type": "code",
   "source": [
    "abstracts_inc = pd.read_csv(\"abstracts_inc.csv\")\n",
    "paper_map = dict(zip(abstracts_inc['ID'], abstracts_inc['Abstract']))"
   ],
   "id": "663ddb12dd05ddc6",
   "outputs": [],
   "execution_count": 3
  },
  {
   "metadata": {
    "ExecuteTime": {
     "end_time": "2025-01-29T03:53:00.403399Z",
     "start_time": "2025-01-29T03:50:48.522475Z"
    }
   },
   "cell_type": "code",
   "source": [
    "c = {}\n",
    "for paper in paper_map:\n",
    "    for editor in int_map:\n",
    "        c[paper, editor] = vector_similarity(int_map[editor], paper_map[paper])  # Insert similarity score here"
   ],
   "id": "5f43f0d281c1a720",
   "outputs": [],
   "execution_count": 4
  },
  {
   "metadata": {
    "ExecuteTime": {
     "end_time": "2025-01-29T03:53:04.358282Z",
     "start_time": "2025-01-29T03:53:04.350193Z"
    }
   },
   "cell_type": "code",
   "source": "print(c)",
   "id": "18507e299c4bc3a7",
   "outputs": [
    {
     "name": "stdout",
     "output_type": "stream",
     "text": [
      "{('2_Cholera', 'Bryson Jun'): np.float32(0.32750267), ('2_Cholera', 'Karina Pan'): np.float32(0.23021358), ('2_Cholera', 'Kelly Guo'): np.float32(0.18148082), ('2_Cholera', 'Matthew Ahn'): np.float32(0.26825023), ('2_Cholera', 'Muriel Taylor-Adair'): np.float32(0.19868879), ('2_Cholera', 'Rijuta Vallishayee'): np.float32(0.2589642), ('2_Cholera', 'Sophia Cho'): np.float32(0.15174973), ('2_Cholera', 'Sophia Govea'): np.float32(0.2618308), ('2_Cholera', 'Gina Matos'): np.float32(0.1730434), ('3_Realities', 'Bryson Jun'): np.float32(0.31103987), ('3_Realities', 'Karina Pan'): np.float32(0.27714562), ('3_Realities', 'Kelly Guo'): np.float32(0.30585182), ('3_Realities', 'Matthew Ahn'): np.float32(0.3887003), ('3_Realities', 'Muriel Taylor-Adair'): np.float32(0.32230678), ('3_Realities', 'Rijuta Vallishayee'): np.float32(0.14940101), ('3_Realities', 'Sophia Cho'): np.float32(0.32754475), ('3_Realities', 'Sophia Govea'): np.float32(0.36157587), ('3_Realities', 'Gina Matos'): np.float32(0.3761078), ('4_Conditions', 'Bryson Jun'): np.float32(0.2291061), ('4_Conditions', 'Karina Pan'): np.float32(0.16388378), ('4_Conditions', 'Kelly Guo'): np.float32(0.2438693), ('4_Conditions', 'Matthew Ahn'): np.float32(0.17067382), ('4_Conditions', 'Muriel Taylor-Adair'): np.float32(0.21353318), ('4_Conditions', 'Rijuta Vallishayee'): np.float32(0.29068866), ('4_Conditions', 'Sophia Cho'): np.float32(0.269831), ('4_Conditions', 'Sophia Govea'): np.float32(0.08840875), ('4_Conditions', 'Gina Matos'): np.float32(0.21003604), ('5_Resilience', 'Bryson Jun'): np.float32(0.17536291), ('5_Resilience', 'Karina Pan'): np.float32(0.4808974), ('5_Resilience', 'Kelly Guo'): np.float32(0.23126476), ('5_Resilience', 'Matthew Ahn'): np.float32(0.20079002), ('5_Resilience', 'Muriel Taylor-Adair'): np.float32(0.21583784), ('5_Resilience', 'Rijuta Vallishayee'): np.float32(0.16696131), ('5_Resilience', 'Sophia Cho'): np.float32(0.18647355), ('5_Resilience', 'Sophia Govea'): np.float32(0.20932731), ('5_Resilience', 'Gina Matos'): np.float32(0.15119351), ('6_Biointelligence', 'Bryson Jun'): np.float32(0.36983436), ('6_Biointelligence', 'Karina Pan'): np.float32(0.28348434), ('6_Biointelligence', 'Kelly Guo'): np.float32(0.2111746), ('6_Biointelligence', 'Matthew Ahn'): np.float32(0.3055781), ('6_Biointelligence', 'Muriel Taylor-Adair'): np.float32(0.12199727), ('6_Biointelligence', 'Rijuta Vallishayee'): np.float32(0.31350714), ('6_Biointelligence', 'Sophia Cho'): np.float32(0.114582874), ('6_Biointelligence', 'Sophia Govea'): np.float32(0.310117), ('6_Biointelligence', 'Gina Matos'): np.float32(0.16828683), ('7_Friend', 'Bryson Jun'): np.float32(0.3498421), ('7_Friend', 'Karina Pan'): np.float32(0.3138815), ('7_Friend', 'Kelly Guo'): np.float32(0.30218413), ('7_Friend', 'Matthew Ahn'): np.float32(0.3557555), ('7_Friend', 'Muriel Taylor-Adair'): np.float32(0.39323625), ('7_Friend', 'Rijuta Vallishayee'): np.float32(0.21873595), ('7_Friend', 'Sophia Cho'): np.float32(0.35998166), ('7_Friend', 'Sophia Govea'): np.float32(0.39685252), ('7_Friend', 'Gina Matos'): np.float32(0.4247226), ('8_GenderGap', 'Bryson Jun'): np.float32(0.27505752), ('8_GenderGap', 'Karina Pan'): np.float32(0.2098533), ('8_GenderGap', 'Kelly Guo'): np.float32(0.3775327), ('8_GenderGap', 'Matthew Ahn'): np.float32(0.36126196), ('8_GenderGap', 'Muriel Taylor-Adair'): np.float32(0.4070083), ('8_GenderGap', 'Rijuta Vallishayee'): np.float32(0.27454877), ('8_GenderGap', 'Sophia Cho'): np.float32(0.18410544), ('8_GenderGap', 'Sophia Govea'): np.float32(0.33351392), ('8_GenderGap', 'Gina Matos'): np.float32(0.33839202), ('9_Movement', 'Bryson Jun'): np.float32(0.31535292), ('9_Movement', 'Karina Pan'): np.float32(0.36131722), ('9_Movement', 'Kelly Guo'): np.float32(0.30650955), ('9_Movement', 'Matthew Ahn'): np.float32(0.3074486), ('9_Movement', 'Muriel Taylor-Adair'): np.float32(0.15910345), ('9_Movement', 'Rijuta Vallishayee'): np.float32(0.38178915), ('9_Movement', 'Sophia Cho'): np.float32(0.05471439), ('9_Movement', 'Sophia Govea'): np.float32(0.2646807), ('9_Movement', 'Gina Matos'): np.float32(0.18076134), ('10_KimIlSung', 'Bryson Jun'): np.float32(0.22842263), ('10_KimIlSung', 'Karina Pan'): np.float32(0.24049878), ('10_KimIlSung', 'Kelly Guo'): np.float32(0.24790493), ('10_KimIlSung', 'Matthew Ahn'): np.float32(0.22857895), ('10_KimIlSung', 'Muriel Taylor-Adair'): np.float32(0.25164795), ('10_KimIlSung', 'Rijuta Vallishayee'): np.float32(0.09580186), ('10_KimIlSung', 'Sophia Cho'): np.float32(0.3447625), ('10_KimIlSung', 'Sophia Govea'): np.float32(0.3033495), ('10_KimIlSung', 'Gina Matos'): np.float32(0.2518163), ('13_Singapore', 'Bryson Jun'): np.float32(0.25506425), ('13_Singapore', 'Karina Pan'): np.float32(0.29290202), ('13_Singapore', 'Kelly Guo'): np.float32(0.3604136), ('13_Singapore', 'Matthew Ahn'): np.float32(0.3340349), ('13_Singapore', 'Muriel Taylor-Adair'): np.float32(0.33524096), ('13_Singapore', 'Rijuta Vallishayee'): np.float32(0.22968322), ('13_Singapore', 'Sophia Cho'): np.float32(0.28677565), ('13_Singapore', 'Sophia Govea'): np.float32(0.29549736), ('13_Singapore', 'Gina Matos'): np.float32(0.31279927), ('14_Persecution', 'Bryson Jun'): np.float32(0.32253844), ('14_Persecution', 'Karina Pan'): np.float32(0.29518497), ('14_Persecution', 'Kelly Guo'): np.float32(0.3530779), ('14_Persecution', 'Matthew Ahn'): np.float32(0.28288776), ('14_Persecution', 'Muriel Taylor-Adair'): np.float32(0.33024058), ('14_Persecution', 'Rijuta Vallishayee'): np.float32(0.32182866), ('14_Persecution', 'Sophia Cho'): np.float32(0.17727527), ('14_Persecution', 'Sophia Govea'): np.float32(0.26666182), ('14_Persecution', 'Gina Matos'): np.float32(0.3772968)}\n"
     ]
    }
   ],
   "execution_count": 5
  },
  {
   "metadata": {
    "ExecuteTime": {
     "end_time": "2025-01-29T03:58:00.577407Z",
     "start_time": "2025-01-29T03:58:00.571450Z"
    }
   },
   "cell_type": "code",
   "source": "import json",
   "id": "b75de9b37e602880",
   "outputs": [],
   "execution_count": 6
  },
  {
   "metadata": {
    "ExecuteTime": {
     "end_time": "2025-01-29T04:00:47.292822Z",
     "start_time": "2025-01-29T04:00:47.276449Z"
    }
   },
   "cell_type": "code",
   "source": [
    "c_str = {str(key): str(value) for key, value in c.items()}\n",
    "with open(\"rewards.json\", \"w\") as f:\n",
    "    json.dump(c_str, f)"
   ],
   "id": "fe83e4b8d770fe9c",
   "outputs": [],
   "execution_count": 11
  },
  {
   "metadata": {
    "ExecuteTime": {
     "end_time": "2025-01-29T04:01:59.754198Z",
     "start_time": "2025-01-29T04:01:59.732036Z"
    }
   },
   "cell_type": "code",
   "source": [
    "import ast\n",
    "with open('rewards.json', 'r') as file:\n",
    "    c_str_2 = json.load(file)\n",
    "c_2 = {ast.literal_eval(key): ast.literal_eval(value) for key, value in c_str_2.items()}\n",
    "print(c_2)"
   ],
   "id": "d3170fd82271619b",
   "outputs": [
    {
     "name": "stdout",
     "output_type": "stream",
     "text": [
      "{('2_Cholera', 'Bryson Jun'): 0.32750267, ('2_Cholera', 'Karina Pan'): 0.23021358, ('2_Cholera', 'Kelly Guo'): 0.18148082, ('2_Cholera', 'Matthew Ahn'): 0.26825023, ('2_Cholera', 'Muriel Taylor-Adair'): 0.19868879, ('2_Cholera', 'Rijuta Vallishayee'): 0.2589642, ('2_Cholera', 'Sophia Cho'): 0.15174973, ('2_Cholera', 'Sophia Govea'): 0.2618308, ('2_Cholera', 'Gina Matos'): 0.1730434, ('3_Realities', 'Bryson Jun'): 0.31103987, ('3_Realities', 'Karina Pan'): 0.27714562, ('3_Realities', 'Kelly Guo'): 0.30585182, ('3_Realities', 'Matthew Ahn'): 0.3887003, ('3_Realities', 'Muriel Taylor-Adair'): 0.32230678, ('3_Realities', 'Rijuta Vallishayee'): 0.14940101, ('3_Realities', 'Sophia Cho'): 0.32754475, ('3_Realities', 'Sophia Govea'): 0.36157587, ('3_Realities', 'Gina Matos'): 0.3761078, ('4_Conditions', 'Bryson Jun'): 0.2291061, ('4_Conditions', 'Karina Pan'): 0.16388378, ('4_Conditions', 'Kelly Guo'): 0.2438693, ('4_Conditions', 'Matthew Ahn'): 0.17067382, ('4_Conditions', 'Muriel Taylor-Adair'): 0.21353318, ('4_Conditions', 'Rijuta Vallishayee'): 0.29068866, ('4_Conditions', 'Sophia Cho'): 0.269831, ('4_Conditions', 'Sophia Govea'): 0.08840875, ('4_Conditions', 'Gina Matos'): 0.21003604, ('5_Resilience', 'Bryson Jun'): 0.17536291, ('5_Resilience', 'Karina Pan'): 0.4808974, ('5_Resilience', 'Kelly Guo'): 0.23126476, ('5_Resilience', 'Matthew Ahn'): 0.20079002, ('5_Resilience', 'Muriel Taylor-Adair'): 0.21583784, ('5_Resilience', 'Rijuta Vallishayee'): 0.16696131, ('5_Resilience', 'Sophia Cho'): 0.18647355, ('5_Resilience', 'Sophia Govea'): 0.20932731, ('5_Resilience', 'Gina Matos'): 0.15119351, ('6_Biointelligence', 'Bryson Jun'): 0.36983436, ('6_Biointelligence', 'Karina Pan'): 0.28348434, ('6_Biointelligence', 'Kelly Guo'): 0.2111746, ('6_Biointelligence', 'Matthew Ahn'): 0.3055781, ('6_Biointelligence', 'Muriel Taylor-Adair'): 0.12199727, ('6_Biointelligence', 'Rijuta Vallishayee'): 0.31350714, ('6_Biointelligence', 'Sophia Cho'): 0.114582874, ('6_Biointelligence', 'Sophia Govea'): 0.310117, ('6_Biointelligence', 'Gina Matos'): 0.16828683, ('7_Friend', 'Bryson Jun'): 0.3498421, ('7_Friend', 'Karina Pan'): 0.3138815, ('7_Friend', 'Kelly Guo'): 0.30218413, ('7_Friend', 'Matthew Ahn'): 0.3557555, ('7_Friend', 'Muriel Taylor-Adair'): 0.39323625, ('7_Friend', 'Rijuta Vallishayee'): 0.21873595, ('7_Friend', 'Sophia Cho'): 0.35998166, ('7_Friend', 'Sophia Govea'): 0.39685252, ('7_Friend', 'Gina Matos'): 0.4247226, ('8_GenderGap', 'Bryson Jun'): 0.27505752, ('8_GenderGap', 'Karina Pan'): 0.2098533, ('8_GenderGap', 'Kelly Guo'): 0.3775327, ('8_GenderGap', 'Matthew Ahn'): 0.36126196, ('8_GenderGap', 'Muriel Taylor-Adair'): 0.4070083, ('8_GenderGap', 'Rijuta Vallishayee'): 0.27454877, ('8_GenderGap', 'Sophia Cho'): 0.18410544, ('8_GenderGap', 'Sophia Govea'): 0.33351392, ('8_GenderGap', 'Gina Matos'): 0.33839202, ('9_Movement', 'Bryson Jun'): 0.31535292, ('9_Movement', 'Karina Pan'): 0.36131722, ('9_Movement', 'Kelly Guo'): 0.30650955, ('9_Movement', 'Matthew Ahn'): 0.3074486, ('9_Movement', 'Muriel Taylor-Adair'): 0.15910345, ('9_Movement', 'Rijuta Vallishayee'): 0.38178915, ('9_Movement', 'Sophia Cho'): 0.05471439, ('9_Movement', 'Sophia Govea'): 0.2646807, ('9_Movement', 'Gina Matos'): 0.18076134, ('10_KimIlSung', 'Bryson Jun'): 0.22842263, ('10_KimIlSung', 'Karina Pan'): 0.24049878, ('10_KimIlSung', 'Kelly Guo'): 0.24790493, ('10_KimIlSung', 'Matthew Ahn'): 0.22857895, ('10_KimIlSung', 'Muriel Taylor-Adair'): 0.25164795, ('10_KimIlSung', 'Rijuta Vallishayee'): 0.09580186, ('10_KimIlSung', 'Sophia Cho'): 0.3447625, ('10_KimIlSung', 'Sophia Govea'): 0.3033495, ('10_KimIlSung', 'Gina Matos'): 0.2518163, ('13_Singapore', 'Bryson Jun'): 0.25506425, ('13_Singapore', 'Karina Pan'): 0.29290202, ('13_Singapore', 'Kelly Guo'): 0.3604136, ('13_Singapore', 'Matthew Ahn'): 0.3340349, ('13_Singapore', 'Muriel Taylor-Adair'): 0.33524096, ('13_Singapore', 'Rijuta Vallishayee'): 0.22968322, ('13_Singapore', 'Sophia Cho'): 0.28677565, ('13_Singapore', 'Sophia Govea'): 0.29549736, ('13_Singapore', 'Gina Matos'): 0.31279927, ('14_Persecution', 'Bryson Jun'): 0.32253844, ('14_Persecution', 'Karina Pan'): 0.29518497, ('14_Persecution', 'Kelly Guo'): 0.3530779, ('14_Persecution', 'Matthew Ahn'): 0.28288776, ('14_Persecution', 'Muriel Taylor-Adair'): 0.33024058, ('14_Persecution', 'Rijuta Vallishayee'): 0.32182866, ('14_Persecution', 'Sophia Cho'): 0.17727527, ('14_Persecution', 'Sophia Govea'): 0.26666182, ('14_Persecution', 'Gina Matos'): 0.3772968}\n"
     ]
    }
   ],
   "execution_count": 17
  }
 ],
 "metadata": {
  "kernelspec": {
   "display_name": "Python 3",
   "language": "python",
   "name": "python3"
  },
  "language_info": {
   "codemirror_mode": {
    "name": "ipython",
    "version": 2
   },
   "file_extension": ".py",
   "mimetype": "text/x-python",
   "name": "python",
   "nbconvert_exporter": "python",
   "pygments_lexer": "ipython2",
   "version": "2.7.6"
  }
 },
 "nbformat": 4,
 "nbformat_minor": 5
}
