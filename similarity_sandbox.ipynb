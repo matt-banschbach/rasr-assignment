{
 "cells": [
  {
   "cell_type": "code",
   "id": "64245a5724b88ac0",
   "metadata": {
    "ExecuteTime": {
     "end_time": "2025-01-17T17:28:44.076244Z",
     "start_time": "2025-01-17T17:28:44.069266Z"
    }
   },
   "source": [
    "from sentence_transformers import SentenceTransformer\n",
    "from sklearn.metrics.pairwise import cosine_similarity\n",
    "import numpy as np"
   ],
   "outputs": [],
   "execution_count": 2
  },
  {
   "metadata": {
    "ExecuteTime": {
     "end_time": "2025-01-17T17:28:54.046406Z",
     "start_time": "2025-01-17T17:28:45.841291Z"
    }
   },
   "cell_type": "code",
   "source": [
    "# Load pre-trained model\n",
    "model = SentenceTransformer('all-MiniLM-L6-v2')"
   ],
   "id": "e204da14f2a69c08",
   "outputs": [
    {
     "name": "stderr",
     "output_type": "stream",
     "text": [
      "C:\\Users\\mbans\\Portfolio\\rasr-assignment\\.venv\\Lib\\site-packages\\huggingface_hub\\file_download.py:140: UserWarning: `huggingface_hub` cache-system uses symlinks by default to efficiently store duplicated files but your machine does not support them in C:\\Users\\mbans\\.cache\\huggingface\\hub\\models--sentence-transformers--all-MiniLM-L6-v2. Caching files will still work but in a degraded version that might require more space on your disk. This warning can be disabled by setting the `HF_HUB_DISABLE_SYMLINKS_WARNING` environment variable. For more details, see https://huggingface.co/docs/huggingface_hub/how-to-cache#limitations.\n",
      "To support symlinks on Windows, you either need to activate Developer Mode or to run Python as an administrator. In order to activate developer mode, see this article: https://docs.microsoft.com/en-us/windows/apps/get-started/enable-your-device-for-development\n",
      "  warnings.warn(message)\n"
     ]
    }
   ],
   "execution_count": 3
  },
  {
   "metadata": {
    "ExecuteTime": {
     "end_time": "2025-01-17T17:46:20.645138Z",
     "start_time": "2025-01-17T17:46:20.635347Z"
    }
   },
   "cell_type": "code",
   "source": [
    "def vector_similarity(text1, text2):\n",
    "    # Generate embeddings\n",
    "    embedding1 = model.encode([text1])\n",
    "    embedding2 = model.encode([text2])\n",
    "    \n",
    "    # Calculate cosine similarity\n",
    "    return cosine_similarity(embedding1, embedding2)[0][0]\n",
    "\n",
    "def keyword_similarity(text, keywords):\n",
    "    text_lower = text.lower()\n",
    "    keyword_count = sum(1 for keyword in keywords if keyword.lower() in text_lower)\n",
    "    return keyword_count / len(keywords)\n",
    "\n",
    "# def hybrid_similarity(paragraph, keywords, vector_weight=1):\n",
    "#     # Combine keywords into a single string for vector similarity\n",
    "#     keywords_text = \" \".join(keywords)\n",
    "#     \n",
    "#     # Calculate vector similarity\n",
    "#     vec_sim = vector_similarity(paragraph, keywords_text)\n",
    "#     \n",
    "#     # Calculate keyword similarity\n",
    "#     key_sim = keyword_similarity(paragraph, keywords)\n",
    "#     \n",
    "#     # Combine scores\n",
    "#     hybrid_score = (vector_weight * vec_sim) + ((1 - vector_weight) * key_sim)\n",
    "#     \n",
    "#     return hybrid_score\n",
    "\n",
    "def paragraph_keywords_similarity(paragraph, keywords):\n",
    "    # Combine keywords into a single string\n",
    "    keywords_text = \" \".join(keywords)\n",
    "    \n",
    "    # Calculate vector similarity\n",
    "    similarity_score = vector_similarity(paragraph, keywords_text)\n",
    "    \n",
    "    return similarity_score"
   ],
   "id": "31929ebd0569fa8",
   "outputs": [],
   "execution_count": 19
  },
  {
   "metadata": {
    "ExecuteTime": {
     "end_time": "2025-01-17T17:48:22.134799Z",
     "start_time": "2025-01-17T17:48:22.127585Z"
    }
   },
   "cell_type": "code",
   "source": [
    "# Example usage\n",
    "paragraph = \"\"\"\tThe intensifying oppression of the Uyghur people in their homeland has received growing alarm from the international community. The Chinese Communist Party (CCP) has constructed a surveillance and incarceration regime of such pervasive, punitive, and penetrative power as to potentially surpass Orwell’s worst nightmares. Much excellent scholarship has pointed out the commonalities between the destruction of the Uyghur as a distinct people and other episodes of settler colonialism and state-building. However, what I wish to spotlight is the importance of the secular as an element in the expansion of the People’s Republic of China (PRC)’s hegemony into Xinjiang. Specifically, I argue that secularism invests a sovereign will-to-power into the state, which serves as the motivating and legitimizing force for its seizure of the sacred, discursively and materially. In aspiring to supplant religious institutions and ideologies, the state attempts to totally fill space and time, executing a level of domination and transformation upon the populations under their rule to a degree inaccessible to the pre-modern Chinese dynasties—however violent and imperious they certainly could be. Secularized sovereignty also makes the state incapable of respecting the rule of law. I analyze examples of liquidating the sacred and the exercising arbitrary power upon the Uyghur homeland from both recent events and the longue durée of history. In short, secularism as it manifests currently under the PRC complements state-building and settler colonialism, providing fuel for the environmental degradation, totalitarianism, and racialized violence that have so scarred the modern age. Charting a more human and more humane future will require a reappraisal of this hallmark of modernity. \"\"\"\n",
    "\n",
    "keywords1 = [\n",
    "    \"China (generally)\",\n",
    "    \"cultural history\",\n",
    "    \"intellectual history/philosophy\",\n",
    "    \"cultural governance\",\n",
    "    \"Chinese performing arts/poetry/literature\",\n",
    "    \"Pacific Theater of Second World War\",\n",
    "    \"Japanese cinema\",\n",
    "    \"South Asia (kind of)\",\n",
    "]"
   ],
   "id": "a9747b3c6c293c04",
   "outputs": [],
   "execution_count": 23
  },
  {
   "metadata": {
    "collapsed": true,
    "ExecuteTime": {
     "end_time": "2025-01-17T17:48:23.387888Z",
     "start_time": "2025-01-17T17:48:23.277624Z"
    }
   },
   "cell_type": "code",
   "source": [
    "similarity_score = paragraph_keywords_similarity(paragraph, keywords1)\n",
    "print(f\"Vector similarity score: {similarity_score}\")"
   ],
   "id": "initial_id",
   "outputs": [
    {
     "name": "stdout",
     "output_type": "stream",
     "text": [
      "Vector similarity score: 0.4656873643398285\n"
     ]
    }
   ],
   "execution_count": 24
  },
  {
   "metadata": {},
   "cell_type": "code",
   "source": "",
   "id": "6cdaf09fb902cd3",
   "outputs": [],
   "execution_count": null
  }
 ],
 "metadata": {
  "kernelspec": {
   "display_name": "Python 3",
   "language": "python",
   "name": "python3"
  },
  "language_info": {
   "codemirror_mode": {
    "name": "ipython",
    "version": 2
   },
   "file_extension": ".py",
   "mimetype": "text/x-python",
   "name": "python",
   "nbconvert_exporter": "python",
   "pygments_lexer": "ipython2",
   "version": "2.7.6"
  }
 },
 "nbformat": 4,
 "nbformat_minor": 5
}
