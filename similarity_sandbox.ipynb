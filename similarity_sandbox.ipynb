{
 "cells": [
  {
   "cell_type": "code",
   "id": "64245a5724b88ac0",
   "metadata": {
    "ExecuteTime": {
     "end_time": "2025-01-23T17:41:03.517457Z",
     "start_time": "2025-01-23T17:40:48.375575Z"
    }
   },
   "source": [
    "from sentence_transformers import SentenceTransformer\n",
    "from sklearn.metrics.pairwise import cosine_similarity\n",
    "import pandas as pd\n",
    "import numpy as np"
   ],
   "outputs": [],
   "execution_count": 1
  },
  {
   "metadata": {
    "ExecuteTime": {
     "end_time": "2025-01-23T17:41:26.408849Z",
     "start_time": "2025-01-23T17:41:25.265083Z"
    }
   },
   "cell_type": "code",
   "source": [
    "# Load pre-trained model\n",
    "model = SentenceTransformer('all-MiniLM-L6-v2')"
   ],
   "id": "e204da14f2a69c08",
   "outputs": [],
   "execution_count": 2
  },
  {
   "metadata": {
    "ExecuteTime": {
     "end_time": "2025-01-23T17:41:27.880945Z",
     "start_time": "2025-01-23T17:41:27.877Z"
    }
   },
   "cell_type": "code",
   "source": [
    "def vector_similarity(text1, text2):\n",
    "    # Generate embeddings\n",
    "    embedding1 = model.encode([text1])\n",
    "    embedding2 = model.encode([text2])\n",
    "    \n",
    "    # Calculate cosine similarity\n",
    "    return cosine_similarity(embedding1, embedding2)[0][0]\n",
    "\n",
    "def paragraph_keywords_similarity(paragraph, keywords):\n",
    "    # Combine keywords into a single string\n",
    "    # keywords_text = \" \".join(keywords)\n",
    "    \n",
    "    # Calculate vector similarity\n",
    "    similarity_score = vector_similarity(paragraph, keywords)\n",
    "    return similarity_score"
   ],
   "id": "31929ebd0569fa8",
   "outputs": [],
   "execution_count": 3
  },
  {
   "metadata": {
    "ExecuteTime": {
     "end_time": "2025-01-23T17:41:29.806025Z",
     "start_time": "2025-01-23T17:41:29.786408Z"
    }
   },
   "cell_type": "code",
   "source": [
    "with open(\"abstracts.txt\", \"r\") as file:\n",
    "    content = file.read()\n",
    "    # Remove newline characters and other whitespace characters\n",
    "    cleaned_content = content.replace(\"\\n\", \"\").replace(\"\\r\", \"\").replace(\"\\t\", \"\")\n",
    "    abstracts = cleaned_content.split(\"///\")"
   ],
   "id": "6cdaf09fb902cd3",
   "outputs": [],
   "execution_count": 4
  },
  {
   "metadata": {
    "ExecuteTime": {
     "end_time": "2025-01-23T17:41:31.235090Z",
     "start_time": "2025-01-23T17:41:31.221931Z"
    }
   },
   "cell_type": "code",
   "source": "df = pd.read_csv(\"Areas of Interest (Responses) - Form Responses 1.csv\").iloc[:, 1:]",
   "id": "af07fb3ca3b9336d",
   "outputs": [],
   "execution_count": 5
  },
  {
   "metadata": {
    "ExecuteTime": {
     "end_time": "2025-01-23T17:41:35.168966Z",
     "start_time": "2025-01-23T17:41:33.747303Z"
    }
   },
   "cell_type": "code",
   "source": [
    "areas_of_interest = list(df[\"Areas of Interest\"])\n",
    "sim_scores = {}\n",
    "\n",
    "for i in range(len(areas_of_interest)):\n",
    "    for j in range(len(abstracts)):\n",
    "        sim_scores[i, j] = paragraph_keywords_similarity(areas_of_interest[i], abstracts[j])\n"
   ],
   "id": "76212818d793db31",
   "outputs": [],
   "execution_count": 6
  },
  {
   "metadata": {
    "ExecuteTime": {
     "end_time": "2025-01-23T17:45:11.199348Z",
     "start_time": "2025-01-23T17:45:11.193965Z"
    }
   },
   "cell_type": "code",
   "source": "len(areas_of_interest)",
   "id": "4469e40eee514469",
   "outputs": [
    {
     "data": {
      "text/plain": [
       "9"
      ]
     },
     "execution_count": 13,
     "metadata": {},
     "output_type": "execute_result"
    }
   ],
   "execution_count": 13
  },
  {
   "metadata": {
    "ExecuteTime": {
     "end_time": "2025-01-23T17:41:56.454938Z",
     "start_time": "2025-01-23T17:41:56.136646Z"
    }
   },
   "cell_type": "code",
   "source": [
    "import gurobipy as gp\n",
    "from gurobipy import GRB"
   ],
   "id": "caf81d9d3604a07d",
   "outputs": [],
   "execution_count": 7
  },
  {
   "metadata": {
    "ExecuteTime": {
     "end_time": "2025-01-23T17:42:18.674632Z",
     "start_time": "2025-01-23T17:42:18.666314Z"
    }
   },
   "cell_type": "code",
   "source": "m = gp.Model()",
   "id": "d22b827855d91214",
   "outputs": [],
   "execution_count": 11
  },
  {
   "metadata": {
    "ExecuteTime": {
     "end_time": "2025-01-23T17:41:59.392287Z",
     "start_time": "2025-01-23T17:41:59.384756Z"
    }
   },
   "cell_type": "code",
   "source": [
    "x = m.addVars(sim_scores.keys(), vtype=GRB.BINARY, name=[f'x_{i}{j}' for i, j in sim_scores.keys()])\n",
    "m.update()"
   ],
   "id": "cb783d04c6902ca4",
   "outputs": [],
   "execution_count": 9
  },
  {
   "metadata": {
    "ExecuteTime": {
     "end_time": "2025-01-23T17:42:00.952344Z",
     "start_time": "2025-01-23T17:42:00.544324Z"
    }
   },
   "cell_type": "code",
   "source": "",
   "id": "a5704d9d7f37d0a8",
   "outputs": [
    {
     "ename": "GurobiError",
     "evalue": "Invalid value for Model.addConstr",
     "output_type": "error",
     "traceback": [
      "\u001B[1;31m---------------------------------------------------------------------------\u001B[0m",
      "\u001B[1;31mGurobiError\u001B[0m                               Traceback (most recent call last)",
      "Cell \u001B[1;32mIn[10], line 1\u001B[0m\n\u001B[1;32m----> 1\u001B[0m \u001B[43mm\u001B[49m\u001B[38;5;241;43m.\u001B[39;49m\u001B[43maddConstrs\u001B[49m\u001B[43m(\u001B[49m\u001B[43mgp\u001B[49m\u001B[38;5;241;43m.\u001B[39;49m\u001B[43mquicksum\u001B[49m\u001B[43m(\u001B[49m\u001B[43mx\u001B[49m\u001B[43m[\u001B[49m\u001B[43mi\u001B[49m\u001B[43m,\u001B[49m\u001B[43m \u001B[49m\u001B[43mj\u001B[49m\u001B[43m]\u001B[49m\u001B[43m \u001B[49m\u001B[38;5;28;43;01mfor\u001B[39;49;00m\u001B[43m \u001B[49m\u001B[43mj\u001B[49m\u001B[43m \u001B[49m\u001B[38;5;129;43;01min\u001B[39;49;00m\u001B[43m \u001B[49m\u001B[38;5;28;43mrange\u001B[39;49m\u001B[43m(\u001B[49m\u001B[38;5;28;43mlen\u001B[39;49m\u001B[43m(\u001B[49m\u001B[43mabstracts\u001B[49m\u001B[43m)\u001B[49m\u001B[43m)\u001B[49m\u001B[43m)\u001B[49m\u001B[43m \u001B[49m\u001B[38;5;28;43;01mfor\u001B[39;49;00m\u001B[43m \u001B[49m\u001B[43mi\u001B[49m\u001B[43m \u001B[49m\u001B[38;5;129;43;01min\u001B[39;49;00m\u001B[43m \u001B[49m\u001B[38;5;28;43mrange\u001B[39;49m\u001B[43m(\u001B[49m\u001B[38;5;28;43mlen\u001B[39;49m\u001B[43m(\u001B[49m\u001B[43mareas_of_interest\u001B[49m\u001B[43m)\u001B[49m\u001B[43m)\u001B[49m\u001B[43m)\u001B[49m\n\u001B[0;32m      2\u001B[0m m\u001B[38;5;241m.\u001B[39mupdate()\n",
      "File \u001B[1;32msrc\\\\gurobipy\\\\_model.pyx:4081\u001B[0m, in \u001B[0;36mgurobipy._model.Model.addConstrs\u001B[1;34m()\u001B[0m\n",
      "File \u001B[1;32msrc\\\\gurobipy\\\\_model.pyx:3989\u001B[0m, in \u001B[0;36mgurobipy._model.Model.addConstr\u001B[1;34m()\u001B[0m\n",
      "\u001B[1;31mGurobiError\u001B[0m: Invalid value for Model.addConstr"
     ]
    }
   ],
   "execution_count": 10
  }
 ],
 "metadata": {
  "kernelspec": {
   "display_name": "Python 3",
   "language": "python",
   "name": "python3"
  },
  "language_info": {
   "codemirror_mode": {
    "name": "ipython",
    "version": 2
   },
   "file_extension": ".py",
   "mimetype": "text/x-python",
   "name": "python",
   "nbconvert_exporter": "python",
   "pygments_lexer": "ipython2",
   "version": "2.7.6"
  }
 },
 "nbformat": 4,
 "nbformat_minor": 5
}
