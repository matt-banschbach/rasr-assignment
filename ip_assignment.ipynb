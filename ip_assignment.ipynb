{
 "cells": [
  {
   "cell_type": "code",
   "id": "initial_id",
   "metadata": {
    "collapsed": true,
    "ExecuteTime": {
     "end_time": "2025-01-28T17:07:37.593814Z",
     "start_time": "2025-01-28T17:07:36.887093Z"
    }
   },
   "source": [
    "import gurobipy as gp\n",
    "from gurobipy import GRB\n",
    "import numpy as np"
   ],
   "outputs": [],
   "execution_count": 1
  },
  {
   "metadata": {
    "ExecuteTime": {
     "end_time": "2025-01-28T18:01:08.743492Z",
     "start_time": "2025-01-28T18:01:08.729224Z"
    }
   },
   "cell_type": "code",
   "source": [
    "papers = list(range(20))\n",
    "leads = list(range(5))\n",
    "editors = list(range(15))\n",
    "\n",
    "papers_per_team = 5\n",
    "\n",
    "c_ik = np.random.rand(len(editors), len(papers))\n",
    "d = np.random.rand(len(leads), len(papers))\n",
    "c = np.array([c_ik for _ in leads])"
   ],
   "id": "64efd89b2b36b02c",
   "outputs": [],
   "execution_count": 57
  },
  {
   "metadata": {
    "ExecuteTime": {
     "end_time": "2025-01-28T17:57:39.861957Z",
     "start_time": "2025-01-28T17:57:39.850875Z"
    }
   },
   "cell_type": "code",
   "source": [
    "m = gp.Model()\n",
    "\n",
    "x_ij = m.addVars(editors, leads, vtype=GRB.BINARY, name=\"editor_lead\")\n",
    "y_jk = m.addVars(leads, papers, vtype=GRB.BINARY, name=\"lead_paper\")\n",
    "x_ijk = m.addVars(editors, leads, papers, vtype=GRB.BINARY, name=\"paper_lead_editor\")\n",
    "\n",
    "m.update()"
   ],
   "id": "32bb24e1d8712fdb",
   "outputs": [],
   "execution_count": 51
  },
  {
   "metadata": {
    "ExecuteTime": {
     "end_time": "2025-01-28T17:57:52.317602Z",
     "start_time": "2025-01-28T17:57:52.287504Z"
    }
   },
   "cell_type": "code",
   "source": [
    "# EACH EDITOR ONLY ASSIGNED TO ONE LEAD / TEAM\n",
    "editor_one_lead = m.addConstrs(gp.quicksum(x_ij[i, j] for j in leads) == 1 for i in editors)\n",
    "\n",
    "# EACH PAPER ASSIGNED TO AT LEAST ONE TEAM\n",
    "paper_one_team = m.addConstrs(gp.quicksum(y_jk[j, k] for j in leads) >= 1 for k in papers)\n",
    "\n",
    "# EACH TEAM GETS SPECIFIED # OF PAPERS (PARAMETER)\n",
    "# TODO: is the above constraint redundant when we have this one? (I think so)\n",
    "paper_count = m.addConstrs(gp.quicksum(y_jk[j, k] for k in papers) == papers_per_team for j in leads)\n",
    "\n",
    "\n",
    "# RELATE VARIABLES\n",
    "relate = m.addConstrs(x_ijk[i, j, k] == x_ij[i, j] * y_jk[j, k] for i in editors for j in leads for k in papers)"
   ],
   "id": "910a40c8fa7726c0",
   "outputs": [],
   "execution_count": 53
  },
  {
   "metadata": {
    "ExecuteTime": {
     "end_time": "2025-01-28T17:57:56.455243Z",
     "start_time": "2025-01-28T17:57:56.442641Z"
    }
   },
   "cell_type": "code",
   "source": "m.update()",
   "id": "639207b461c08f56",
   "outputs": [],
   "execution_count": 54
  },
  {
   "metadata": {
    "ExecuteTime": {
     "end_time": "2025-01-28T18:01:41.191405Z",
     "start_time": "2025-01-28T18:01:41.173430Z"
    }
   },
   "cell_type": "code",
   "source": [
    "m.setObjective(gp.quicksum(c[j, i, k] * x_ijk[i, j, k] for i in editors for j in leads for k in papers) + gp.quicksum(d[j, k] * y_jk[j, k] for j in leads for k in papers))\n",
    "m.update()"
   ],
   "id": "e55f36cf47950fc1",
   "outputs": [],
   "execution_count": 60
  },
  {
   "metadata": {
    "ExecuteTime": {
     "end_time": "2025-01-28T18:03:11.890593Z",
     "start_time": "2025-01-28T18:01:43.513441Z"
    }
   },
   "cell_type": "code",
   "source": "m.optimize()",
   "id": "e840296715d0b2f3",
   "outputs": [
    {
     "name": "stdout",
     "output_type": "stream",
     "text": [
      "Gurobi Optimizer version 12.0.0 build v12.0.0rc1 (win64 - Windows 11.0 (22631.2))\n",
      "\n",
      "CPU model: AMD Ryzen 7 5800HS with Radeon Graphics, instruction set [SSE2|AVX|AVX2]\n",
      "Thread count: 8 physical cores, 16 logical processors, using up to 16 threads\n",
      "\n",
      "Optimize a model with 80 rows, 1675 columns and 550 nonzeros\n",
      "Model fingerprint: 0x1fbe43c0\n",
      "Model has 3000 quadratic constraints\n",
      "Variable types: 0 continuous, 1675 integer (1675 binary)\n",
      "Coefficient statistics:\n",
      "  Matrix range     [1e+00, 1e+00]\n",
      "  QMatrix range    [1e+00, 1e+00]\n",
      "  QLMatrix range   [1e+00, 1e+00]\n",
      "  Objective range  [2e-03, 1e+00]\n",
      "  Bounds range     [1e+00, 1e+00]\n",
      "  RHS range        [1e+00, 5e+00]\n",
      "\n",
      "Loaded MIP start from previous solve with objective 51.6235\n",
      "\n",
      "Presolve removed 40 rows and 0 columns\n",
      "Presolve time: 0.00s\n",
      "Presolved: 6040 rows, 3175 columns, 13775 nonzeros\n",
      "Variable types: 0 continuous, 3175 integer (3175 binary)\n",
      "\n",
      "Root relaxation: objective 4.601232e+00, 205 iterations, 0.02 seconds (0.01 work units)\n",
      "\n",
      "    Nodes    |    Current Node    |     Objective Bounds      |     Work\n",
      " Expl Unexpl |  Obj  Depth IntInf | Incumbent    BestBd   Gap | It/Node Time\n",
      "\n",
      "     0     0    4.60123    0   96   51.62355    4.60123  91.1%     -    0s\n",
      "H    0     0                      49.7364782    4.60123  90.7%     -    0s\n",
      "H    0     0                      49.4858271    4.60123  90.7%     -    0s\n",
      "H    0     0                      44.1151027    4.60123  89.6%     -    0s\n",
      "H    0     0                      25.3583409    4.60123  81.9%     -    0s\n",
      "     0     0    7.04049    0  114   25.35834    7.04049  72.2%     -    0s\n",
      "     0     0    9.78537    0  211   25.35834    9.78537  61.4%     -    0s\n",
      "     0     0   10.45154    0  180   25.35834   10.45154  58.8%     -    0s\n",
      "     0     0   10.47015    0  185   25.35834   10.47015  58.7%     -    0s\n",
      "     0     0   13.27425    0  362   25.35834   13.27425  47.7%     -    0s\n",
      "     0     0   13.28655    0  362   25.35834   13.28655  47.6%     -    0s\n",
      "     0     2   13.37366    0  362   25.35834   13.37366  47.3%     -    0s\n",
      "* 1615  1382              42      25.3545628   15.77246  37.8%   100    2s\n",
      "H 1660  1314                      25.1779399   15.77246  37.4%   100    2s\n",
      "  1727  1361   18.90571   14  531   25.17794   18.89937  24.9%   102    5s\n",
      "H 1827  1364                      25.0548191   18.97967  24.2%   109    5s\n",
      "H 2019  1429                      25.0061386   18.97967  24.1%   119    7s\n",
      "H 2030  1378                      24.9223268   18.97967  23.8%   119    7s\n",
      "* 2472  1463              41      24.6220743   19.64719  20.2%   128    8s\n",
      "  3024  1592   21.56764   25  403   24.62207   19.83029  19.5%   136   10s\n",
      "H 3720  1609                      24.4456379   20.21727  17.3%   142   11s\n",
      "H 3968  1613                      24.2335681   20.22075  16.6%   143   12s\n",
      "  5098  1932     cutoff   33        24.23357   20.48678  15.5%   152   15s\n",
      "* 5739  2133              42      24.0831278   20.65854  14.2%   156   16s\n",
      "H 5946  2206                      24.0064426   20.75215  13.6%   157   16s\n",
      "  8233  3064     cutoff   37        24.00644   21.15547  11.9%   164   20s\n",
      " 11264  3824   22.89747   26  304   24.00644   21.47880  10.5%   168   25s\n",
      " 14432  4396   22.45284   25  387   24.00644   21.75445  9.38%   169   30s\n",
      " 17586  4946   22.65978   28  317   24.00644   21.93909  8.61%   170   35s\n",
      " 19805  5198   22.89442   34  359   24.00644   22.05634  8.12%   171   40s\n",
      " 22872  5453   23.65496   28  333   24.00644   22.23682  7.37%   172   45s\n",
      "*23607  5450              35      23.9956744   22.24346  7.30%   172   45s\n",
      " 24769  5495   23.11641   27  360   23.99567   22.32090  6.98%   172   51s\n",
      " 26018  5460   23.48753   37  351   23.99567   22.33838  6.91%   172   55s\n",
      " 29615  5319     cutoff   26        23.99567   22.53439  6.09%   173   61s\n",
      " 32083  5079     cutoff   32        23.99567   22.64323  5.64%   174   65s\n",
      " 34643  4645     cutoff   30        23.99567   22.75661  5.16%   176   70s\n",
      " 37389  3957     cutoff   27        23.99567   22.87266  4.68%   177   76s\n",
      " 40220  2831     cutoff   36        23.99567   23.04126  3.98%   180   82s\n",
      " 43017  1116     cutoff   28        23.99567   23.27949  2.98%   183   87s\n",
      "\n",
      "Cutting planes:\n",
      "  Gomory: 5\n",
      "  Cover: 503\n",
      "  Dual implied bound: 278\n",
      "  Clique: 7\n",
      "  MIR: 116\n",
      "  StrongCG: 8\n",
      "  Flow cover: 196\n",
      "  Zero half: 143\n",
      "  RLT: 96\n",
      "  Relax-and-lift: 2\n",
      "  BQP: 1\n",
      "\n",
      "Explored 45293 nodes (8180375 simplex iterations) in 88.37 seconds (113.74 work units)\n",
      "Thread count was 16 (of 16 available processors)\n",
      "\n",
      "Solution count 10: 23.9957 24.0064 24.0831 ... 25.1779\n",
      "\n",
      "Optimal solution found (tolerance 1.00e-04)\n",
      "Best objective 2.399567441649e+01, best bound 2.399567441649e+01, gap 0.0000%\n"
     ]
    }
   ],
   "execution_count": 61
  },
  {
   "metadata": {
    "ExecuteTime": {
     "end_time": "2025-01-28T18:22:33.592508Z",
     "start_time": "2025-01-28T18:22:33.571355Z"
    }
   },
   "cell_type": "code",
   "source": "",
   "id": "8c34c115aeef338e",
   "outputs": [
    {
     "data": {
      "text/plain": [
       "{(0, 0): <gurobi.Var lead_paper[0,0] (value 0.0)>,\n",
       " (0, 1): <gurobi.Var lead_paper[0,1] (value 1.0)>,\n",
       " (0, 2): <gurobi.Var lead_paper[0,2] (value 0.0)>,\n",
       " (0, 3): <gurobi.Var lead_paper[0,3] (value 0.0)>,\n",
       " (0, 4): <gurobi.Var lead_paper[0,4] (value 1.0)>,\n",
       " (0, 5): <gurobi.Var lead_paper[0,5] (value 0.0)>,\n",
       " (0, 6): <gurobi.Var lead_paper[0,6] (value 0.0)>,\n",
       " (0, 7): <gurobi.Var lead_paper[0,7] (value 0.0)>,\n",
       " (0, 8): <gurobi.Var lead_paper[0,8] (value 0.0)>,\n",
       " (0, 9): <gurobi.Var lead_paper[0,9] (value 0.0)>,\n",
       " (0, 10): <gurobi.Var lead_paper[0,10] (value 0.0)>,\n",
       " (0, 11): <gurobi.Var lead_paper[0,11] (value 0.0)>,\n",
       " (0, 12): <gurobi.Var lead_paper[0,12] (value 1.0)>,\n",
       " (0, 13): <gurobi.Var lead_paper[0,13] (value 0.0)>,\n",
       " (0, 14): <gurobi.Var lead_paper[0,14] (value 0.0)>,\n",
       " (0, 15): <gurobi.Var lead_paper[0,15] (value 1.0)>,\n",
       " (0, 16): <gurobi.Var lead_paper[0,16] (value 0.0)>,\n",
       " (0, 17): <gurobi.Var lead_paper[0,17] (value 0.0)>,\n",
       " (0, 18): <gurobi.Var lead_paper[0,18] (value 0.0)>,\n",
       " (0, 19): <gurobi.Var lead_paper[0,19] (value 1.0)>,\n",
       " (1, 0): <gurobi.Var lead_paper[1,0] (value 1.0)>,\n",
       " (1, 1): <gurobi.Var lead_paper[1,1] (value 0.0)>,\n",
       " (1, 2): <gurobi.Var lead_paper[1,2] (value 0.0)>,\n",
       " (1, 3): <gurobi.Var lead_paper[1,3] (value 0.0)>,\n",
       " (1, 4): <gurobi.Var lead_paper[1,4] (value 0.0)>,\n",
       " (1, 5): <gurobi.Var lead_paper[1,5] (value 0.0)>,\n",
       " (1, 6): <gurobi.Var lead_paper[1,6] (value 1.0)>,\n",
       " (1, 7): <gurobi.Var lead_paper[1,7] (value 1.0)>,\n",
       " (1, 8): <gurobi.Var lead_paper[1,8] (value 0.0)>,\n",
       " (1, 9): <gurobi.Var lead_paper[1,9] (value 0.0)>,\n",
       " (1, 10): <gurobi.Var lead_paper[1,10] (value 0.0)>,\n",
       " (1, 11): <gurobi.Var lead_paper[1,11] (value 0.0)>,\n",
       " (1, 12): <gurobi.Var lead_paper[1,12] (value 0.0)>,\n",
       " (1, 13): <gurobi.Var lead_paper[1,13] (value 1.0)>,\n",
       " (1, 14): <gurobi.Var lead_paper[1,14] (value 0.0)>,\n",
       " (1, 15): <gurobi.Var lead_paper[1,15] (value 0.0)>,\n",
       " (1, 16): <gurobi.Var lead_paper[1,16] (value 0.0)>,\n",
       " (1, 17): <gurobi.Var lead_paper[1,17] (value 0.0)>,\n",
       " (1, 18): <gurobi.Var lead_paper[1,18] (value 1.0)>,\n",
       " (1, 19): <gurobi.Var lead_paper[1,19] (value 0.0)>,\n",
       " (2, 0): <gurobi.Var lead_paper[2,0] (value 0.0)>,\n",
       " (2, 1): <gurobi.Var lead_paper[2,1] (value 0.0)>,\n",
       " (2, 2): <gurobi.Var lead_paper[2,2] (value 0.0)>,\n",
       " (2, 3): <gurobi.Var lead_paper[2,3] (value 1.0)>,\n",
       " (2, 4): <gurobi.Var lead_paper[2,4] (value 0.0)>,\n",
       " (2, 5): <gurobi.Var lead_paper[2,5] (value 0.0)>,\n",
       " (2, 6): <gurobi.Var lead_paper[2,6] (value 1.0)>,\n",
       " (2, 7): <gurobi.Var lead_paper[2,7] (value 0.0)>,\n",
       " (2, 8): <gurobi.Var lead_paper[2,8] (value 0.0)>,\n",
       " (2, 9): <gurobi.Var lead_paper[2,9] (value 0.0)>,\n",
       " (2, 10): <gurobi.Var lead_paper[2,10] (value 1.0)>,\n",
       " (2, 11): <gurobi.Var lead_paper[2,11] (value 0.0)>,\n",
       " (2, 12): <gurobi.Var lead_paper[2,12] (value 0.0)>,\n",
       " (2, 13): <gurobi.Var lead_paper[2,13] (value 0.0)>,\n",
       " (2, 14): <gurobi.Var lead_paper[2,14] (value 1.0)>,\n",
       " (2, 15): <gurobi.Var lead_paper[2,15] (value 0.0)>,\n",
       " (2, 16): <gurobi.Var lead_paper[2,16] (value 0.0)>,\n",
       " (2, 17): <gurobi.Var lead_paper[2,17] (value 1.0)>,\n",
       " (2, 18): <gurobi.Var lead_paper[2,18] (value 0.0)>,\n",
       " (2, 19): <gurobi.Var lead_paper[2,19] (value 0.0)>,\n",
       " (3, 0): <gurobi.Var lead_paper[3,0] (value 0.0)>,\n",
       " (3, 1): <gurobi.Var lead_paper[3,1] (value 0.0)>,\n",
       " (3, 2): <gurobi.Var lead_paper[3,2] (value 1.0)>,\n",
       " (3, 3): <gurobi.Var lead_paper[3,3] (value 0.0)>,\n",
       " (3, 4): <gurobi.Var lead_paper[3,4] (value 0.0)>,\n",
       " (3, 5): <gurobi.Var lead_paper[3,5] (value 1.0)>,\n",
       " (3, 6): <gurobi.Var lead_paper[3,6] (value 0.0)>,\n",
       " (3, 7): <gurobi.Var lead_paper[3,7] (value 0.0)>,\n",
       " (3, 8): <gurobi.Var lead_paper[3,8] (value 0.0)>,\n",
       " (3, 9): <gurobi.Var lead_paper[3,9] (value 1.0)>,\n",
       " (3, 10): <gurobi.Var lead_paper[3,10] (value 1.0)>,\n",
       " (3, 11): <gurobi.Var lead_paper[3,11] (value 1.0)>,\n",
       " (3, 12): <gurobi.Var lead_paper[3,12] (value 0.0)>,\n",
       " (3, 13): <gurobi.Var lead_paper[3,13] (value 0.0)>,\n",
       " (3, 14): <gurobi.Var lead_paper[3,14] (value 0.0)>,\n",
       " (3, 15): <gurobi.Var lead_paper[3,15] (value 0.0)>,\n",
       " (3, 16): <gurobi.Var lead_paper[3,16] (value 0.0)>,\n",
       " (3, 17): <gurobi.Var lead_paper[3,17] (value 0.0)>,\n",
       " (3, 18): <gurobi.Var lead_paper[3,18] (value 0.0)>,\n",
       " (3, 19): <gurobi.Var lead_paper[3,19] (value 0.0)>,\n",
       " (4, 0): <gurobi.Var lead_paper[4,0] (value 0.0)>,\n",
       " (4, 1): <gurobi.Var lead_paper[4,1] (value 0.0)>,\n",
       " (4, 2): <gurobi.Var lead_paper[4,2] (value 0.0)>,\n",
       " (4, 3): <gurobi.Var lead_paper[4,3] (value 1.0)>,\n",
       " (4, 4): <gurobi.Var lead_paper[4,4] (value 0.0)>,\n",
       " (4, 5): <gurobi.Var lead_paper[4,5] (value 0.0)>,\n",
       " (4, 6): <gurobi.Var lead_paper[4,6] (value 0.0)>,\n",
       " (4, 7): <gurobi.Var lead_paper[4,7] (value 1.0)>,\n",
       " (4, 8): <gurobi.Var lead_paper[4,8] (value 1.0)>,\n",
       " (4, 9): <gurobi.Var lead_paper[4,9] (value 0.0)>,\n",
       " (4, 10): <gurobi.Var lead_paper[4,10] (value 0.0)>,\n",
       " (4, 11): <gurobi.Var lead_paper[4,11] (value 0.0)>,\n",
       " (4, 12): <gurobi.Var lead_paper[4,12] (value 0.0)>,\n",
       " (4, 13): <gurobi.Var lead_paper[4,13] (value 0.0)>,\n",
       " (4, 14): <gurobi.Var lead_paper[4,14] (value 0.0)>,\n",
       " (4, 15): <gurobi.Var lead_paper[4,15] (value 0.0)>,\n",
       " (4, 16): <gurobi.Var lead_paper[4,16] (value 1.0)>,\n",
       " (4, 17): <gurobi.Var lead_paper[4,17] (value 0.0)>,\n",
       " (4, 18): <gurobi.Var lead_paper[4,18] (value 0.0)>,\n",
       " (4, 19): <gurobi.Var lead_paper[4,19] (value 1.0)>}"
      ]
     },
     "execution_count": 62,
     "metadata": {},
     "output_type": "execute_result"
    }
   ],
   "execution_count": 62
  }
 ],
 "metadata": {
  "kernelspec": {
   "display_name": "Python 3",
   "language": "python",
   "name": "python3"
  },
  "language_info": {
   "codemirror_mode": {
    "name": "ipython",
    "version": 2
   },
   "file_extension": ".py",
   "mimetype": "text/x-python",
   "name": "python",
   "nbconvert_exporter": "python",
   "pygments_lexer": "ipython2",
   "version": "2.7.6"
  }
 },
 "nbformat": 4,
 "nbformat_minor": 5
}
