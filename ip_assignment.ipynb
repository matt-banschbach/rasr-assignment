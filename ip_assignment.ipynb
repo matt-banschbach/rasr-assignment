{
 "cells": [
  {
   "cell_type": "code",
   "id": "initial_id",
   "metadata": {
    "collapsed": true,
    "ExecuteTime": {
     "end_time": "2025-01-29T04:04:33.298586Z",
     "start_time": "2025-01-29T04:04:33.291250Z"
    }
   },
   "source": [
    "import gurobipy as gp\n",
    "from gurobipy import GRB\n",
    "import numpy as np\n",
    "import pandas as pd\n",
    "import ast\n",
    "import json"
   ],
   "outputs": [],
   "execution_count": 2
  },
  {
   "metadata": {
    "ExecuteTime": {
     "end_time": "2025-01-28T18:01:08.743492Z",
     "start_time": "2025-01-28T18:01:08.729224Z"
    }
   },
   "cell_type": "code",
   "source": [
    "# papers = list(range(20))\n",
    "# leads = list(range(5))\n",
    "# editors = list(range(15))\n",
    "#\n",
    "# papers_per_team = 5\n",
    "#\n",
    "# c_ik = np.random.rand(len(editors), len(papers))\n",
    "# d = np.random.rand(len(leads), len(papers))\n",
    "# c = np.array([c_ik for _ in leads])"
   ],
   "id": "64efd89b2b36b02c",
   "outputs": [],
   "execution_count": 57
  },
  {
   "metadata": {
    "ExecuteTime": {
     "end_time": "2025-01-29T04:08:43.276355Z",
     "start_time": "2025-01-29T04:08:43.252898Z"
    }
   },
   "cell_type": "code",
   "source": [
    "editors_df = pd.read_csv(\"areas_of_interest_old.csv\").iloc[:, 1:]\n",
    "int_map = dict(zip(editors_df['Name'], editors_df['Areas of Interest']))\n",
    "\n",
    "abstracts_inc = pd.read_csv(\"abstracts_inc.csv\")\n",
    "paper_map = dict(zip(abstracts_inc['ID'], abstracts_inc['Abstract']))\n",
    "\n",
    "with open('rewards.json', 'r') as file:\n",
    "    c_str_2 = json.load(file)\n",
    "c_2 = {ast.literal_eval(key): ast.literal_eval(value) for key, value in c_str_2.items()}"
   ],
   "id": "a6ca2917447571e7",
   "outputs": [],
   "execution_count": 21
  },
  {
   "metadata": {
    "ExecuteTime": {
     "end_time": "2025-01-29T04:09:56.824237Z",
     "start_time": "2025-01-29T04:09:56.814782Z"
    }
   },
   "cell_type": "code",
   "source": [
    "editors = list(editors_df['Name'].iloc[3:])\n",
    "leads = list(editors_df['Name'].iloc[:3])\n",
    "papers = list(paper_map.keys())"
   ],
   "id": "423ec662c7b0cac",
   "outputs": [],
   "execution_count": 31
  },
  {
   "metadata": {
    "ExecuteTime": {
     "end_time": "2025-01-29T04:28:58.748669Z",
     "start_time": "2025-01-29T04:28:58.734802Z"
    }
   },
   "cell_type": "code",
   "source": [
    "m = gp.Model()\n",
    "\n",
    "x = m.addVars(editors, leads, vtype=GRB.BINARY, name=\"editor_lead\")\n",
    "y = m.addVars(leads, papers, vtype=GRB.BINARY, name=\"lead_paper\")\n",
    "z = m.addVars(editors, leads, papers, vtype=GRB.BINARY, name=\"paper_lead_editor\")\n",
    "\n",
    "m.update()"
   ],
   "id": "32bb24e1d8712fdb",
   "outputs": [],
   "execution_count": 68
  },
  {
   "metadata": {
    "ExecuteTime": {
     "end_time": "2025-01-29T04:28:59.531905Z",
     "start_time": "2025-01-29T04:28:59.506214Z"
    }
   },
   "cell_type": "code",
   "source": [
    "# EACH EDITOR ONLY ASSIGNED TO ONE LEAD / TEAM\n",
    "editor_one_lead = m.addConstrs(gp.quicksum(x[i, j] for j in leads) == 1 for i in editors)\n",
    "\n",
    "# EACH EDITOR GETS SIMILAR # OF EDITORS\n",
    "lead_team = m.addConstrs(gp.quicksum(x[i, j] for i in editors) >= 2 for j in leads)\n",
    "\n",
    "# EACH PAPER ASSIGNED TO AT LEAST ONE TEAM\n",
    "paper_one_team = m.addConstrs(gp.quicksum(y[j, k] for j in leads) >= 1 for k in papers)\n",
    "\n",
    "# EACH TEAM GETS SPECIFIED # OF PAPERS (PARAMETER)\n",
    "paper_count = m.addConstrs(gp.quicksum(y[j, k] for k in papers) == 4 for j in leads)\n",
    "\n",
    "# RELATE VARIABLES\n",
    "relate = m.addConstrs(z[i, j, k] == x[i, j] * y[j, k] for i in editors for j in leads for k in papers)\n",
    "\n",
    "m.update()"
   ],
   "id": "910a40c8fa7726c0",
   "outputs": [],
   "execution_count": 69
  },
  {
   "metadata": {
    "ExecuteTime": {
     "end_time": "2025-01-29T04:29:01.622672Z",
     "start_time": "2025-01-29T04:29:01.612222Z"
    }
   },
   "cell_type": "code",
   "source": [
    "m.setObjective(gp.quicksum(c_2[k, i] * z[i, j, k] for i in editors for j in leads for k in papers) + gp.quicksum(c_2[k, j] * y[j, k] for j in leads for k in papers))\n",
    "m.update()"
   ],
   "id": "e55f36cf47950fc1",
   "outputs": [],
   "execution_count": 70
  },
  {
   "metadata": {
    "ExecuteTime": {
     "end_time": "2025-01-29T04:29:02.818407Z",
     "start_time": "2025-01-29T04:29:02.556669Z"
    }
   },
   "cell_type": "code",
   "source": "m.optimize()",
   "id": "e840296715d0b2f3",
   "outputs": [
    {
     "name": "stdout",
     "output_type": "stream",
     "text": [
      "Gurobi Optimizer version 12.0.0 build v12.0.0rc1 (win64 - Windows 11.0 (22631.2))\n",
      "\n",
      "CPU model: AMD Ryzen 7 5800HS with Radeon Graphics, instruction set [SSE2|AVX|AVX2]\n",
      "Thread count: 8 physical cores, 16 logical processors, using up to 16 threads\n",
      "\n",
      "Optimize a model with 23 rows, 249 columns and 102 nonzeros\n",
      "Model fingerprint: 0x81dbc056\n",
      "Model has 198 quadratic constraints\n",
      "Variable types: 0 continuous, 249 integer (249 binary)\n",
      "Coefficient statistics:\n",
      "  Matrix range     [1e+00, 1e+00]\n",
      "  QMatrix range    [1e+00, 1e+00]\n",
      "  QLMatrix range   [1e+00, 1e+00]\n",
      "  Objective range  [5e-02, 5e-01]\n",
      "  Bounds range     [1e+00, 1e+00]\n",
      "  RHS range        [1e+00, 4e+00]\n",
      "Presolve time: 0.00s\n",
      "Presolved: 815 rows, 447 columns, 1884 nonzeros\n",
      "Variable types: 0 continuous, 447 integer (447 binary)\n",
      "Found heuristic solution: objective 10.5560523\n",
      "Found heuristic solution: objective 9.6130633\n",
      "\n",
      "Root relaxation: objective 2.989840e+00, 96 iterations, 0.00 seconds (0.00 work units)\n",
      "\n",
      "    Nodes    |    Current Node    |     Objective Bounds      |     Work\n",
      " Expl Unexpl |  Obj  Depth IntInf | Incumbent    BestBd   Gap | It/Node Time\n",
      "\n",
      "     0     0    2.98984    0   41    9.61306    2.98984  68.9%     -    0s\n",
      "H    0     0                       9.2849097    2.98984  67.8%     -    0s\n",
      "H    0     0                       8.7598275    2.98984  65.9%     -    0s\n",
      "H    0     0                       8.5036981    2.98984  64.8%     -    0s\n",
      "     0     0    6.61734    0   65    8.50370    6.61734  22.2%     -    0s\n",
      "     0     0    6.62322    0   65    8.50370    6.62322  22.1%     -    0s\n",
      "     0     0    7.59123    0  102    8.50370    7.59123  10.7%     -    0s\n",
      "     0     0    7.59164    0  102    8.50370    7.59164  10.7%     -    0s\n",
      "H    0     0                       8.3579458    7.59761  9.10%     -    0s\n",
      "H    0     0                       8.3553823    7.59761  9.07%     -    0s\n",
      "     0     2    7.63038    0  102    8.35538    7.63038  8.68%     -    0s\n",
      "H    5     8                       8.0845962    7.63374  5.58%  52.0    0s\n",
      "*   35     7               4       8.0326278    7.95390  0.98%  55.3    0s\n",
      "\n",
      "Cutting planes:\n",
      "  Cover: 10\n",
      "  Dual implied bound: 13\n",
      "  MIR: 13\n",
      "  RLT: 44\n",
      "\n",
      "Explored 59 nodes (2844 simplex iterations) in 0.24 seconds (0.06 work units)\n",
      "Thread count was 16 (of 16 available processors)\n",
      "\n",
      "Solution count 9: 8.03263 8.0846 8.35538 ... 10.5561\n",
      "\n",
      "Optimal solution found (tolerance 1.00e-04)\n",
      "Best objective 8.032627850000e+00, best bound 8.032627850000e+00, gap 0.0000%\n"
     ]
    }
   ],
   "execution_count": 71
  },
  {
   "metadata": {
    "ExecuteTime": {
     "end_time": "2025-01-29T04:29:09.313943Z",
     "start_time": "2025-01-29T04:29:09.296726Z"
    }
   },
   "cell_type": "code",
   "source": [
    "for v in m.getVars():\n",
    "    if v.VType == GRB.BINARY and v.X > 0.5:\n",
    "        print(f\"{v.VarName}: {v.X}\")"
   ],
   "id": "8c34c115aeef338e",
   "outputs": [
    {
     "name": "stdout",
     "output_type": "stream",
     "text": [
      "editor_lead[Matthew Ahn,Bryson Jun]: 1.0\n",
      "editor_lead[Muriel Taylor-Adair,Kelly Guo]: 1.0\n",
      "editor_lead[Rijuta Vallishayee,Bryson Jun]: 1.0\n",
      "editor_lead[Sophia Cho,Karina Pan]: 1.0\n",
      "editor_lead[Sophia Govea,Karina Pan]: 1.0\n",
      "editor_lead[Gina Matos,Kelly Guo]: 1.0\n",
      "lead_paper[Bryson Jun,3_Realities]: 1.0\n",
      "lead_paper[Bryson Jun,5_Resilience]: 1.0\n",
      "lead_paper[Bryson Jun,7_Friend]: 1.0\n",
      "lead_paper[Bryson Jun,10_KimIlSung]: 1.0\n",
      "lead_paper[Karina Pan,4_Conditions]: 1.0\n",
      "lead_paper[Karina Pan,8_GenderGap]: 1.0\n",
      "lead_paper[Karina Pan,13_Singapore]: 1.0\n",
      "lead_paper[Karina Pan,14_Persecution]: 1.0\n",
      "lead_paper[Kelly Guo,2_Cholera]: 1.0\n",
      "lead_paper[Kelly Guo,5_Resilience]: 1.0\n",
      "lead_paper[Kelly Guo,6_Biointelligence]: 1.0\n",
      "lead_paper[Kelly Guo,9_Movement]: 1.0\n",
      "paper_lead_editor[Matthew Ahn,Bryson Jun,3_Realities]: 1.0\n",
      "paper_lead_editor[Matthew Ahn,Bryson Jun,5_Resilience]: 1.0\n",
      "paper_lead_editor[Matthew Ahn,Bryson Jun,7_Friend]: 1.0\n",
      "paper_lead_editor[Matthew Ahn,Bryson Jun,10_KimIlSung]: 1.0\n",
      "paper_lead_editor[Muriel Taylor-Adair,Kelly Guo,2_Cholera]: 1.0\n",
      "paper_lead_editor[Muriel Taylor-Adair,Kelly Guo,5_Resilience]: 1.0\n",
      "paper_lead_editor[Muriel Taylor-Adair,Kelly Guo,6_Biointelligence]: 1.0\n",
      "paper_lead_editor[Muriel Taylor-Adair,Kelly Guo,9_Movement]: 1.0\n",
      "paper_lead_editor[Rijuta Vallishayee,Bryson Jun,3_Realities]: 1.0\n",
      "paper_lead_editor[Rijuta Vallishayee,Bryson Jun,5_Resilience]: 1.0\n",
      "paper_lead_editor[Rijuta Vallishayee,Bryson Jun,7_Friend]: 1.0\n",
      "paper_lead_editor[Rijuta Vallishayee,Bryson Jun,10_KimIlSung]: 1.0\n",
      "paper_lead_editor[Sophia Cho,Karina Pan,4_Conditions]: 1.0\n",
      "paper_lead_editor[Sophia Cho,Karina Pan,8_GenderGap]: 1.0\n",
      "paper_lead_editor[Sophia Cho,Karina Pan,13_Singapore]: 1.0\n",
      "paper_lead_editor[Sophia Cho,Karina Pan,14_Persecution]: 1.0\n",
      "paper_lead_editor[Sophia Govea,Karina Pan,4_Conditions]: 1.0\n",
      "paper_lead_editor[Sophia Govea,Karina Pan,8_GenderGap]: 1.0\n",
      "paper_lead_editor[Sophia Govea,Karina Pan,13_Singapore]: 1.0\n",
      "paper_lead_editor[Sophia Govea,Karina Pan,14_Persecution]: 1.0\n",
      "paper_lead_editor[Gina Matos,Kelly Guo,2_Cholera]: 1.0\n",
      "paper_lead_editor[Gina Matos,Kelly Guo,5_Resilience]: 1.0\n",
      "paper_lead_editor[Gina Matos,Kelly Guo,6_Biointelligence]: 1.0\n",
      "paper_lead_editor[Gina Matos,Kelly Guo,9_Movement]: 1.0\n"
     ]
    }
   ],
   "execution_count": 72
  },
  {
   "metadata": {
    "ExecuteTime": {
     "end_time": "2025-01-29T04:19:40.638322Z",
     "start_time": "2025-01-29T04:19:40.629046Z"
    }
   },
   "cell_type": "code",
   "source": "",
   "id": "c799e937ba73ba11",
   "outputs": [
    {
     "data": {
      "text/plain": [
       "gurobipy._core.tupledict"
      ]
     },
     "execution_count": 54,
     "metadata": {},
     "output_type": "execute_result"
    }
   ],
   "execution_count": 54
  }
 ],
 "metadata": {
  "kernelspec": {
   "display_name": "Python 3",
   "language": "python",
   "name": "python3"
  },
  "language_info": {
   "codemirror_mode": {
    "name": "ipython",
    "version": 2
   },
   "file_extension": ".py",
   "mimetype": "text/x-python",
   "name": "python",
   "nbconvert_exporter": "python",
   "pygments_lexer": "ipython2",
   "version": "2.7.6"
  }
 },
 "nbformat": 4,
 "nbformat_minor": 5
}
